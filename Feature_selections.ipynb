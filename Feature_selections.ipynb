{
 "cells": [
  {
   "cell_type": "markdown",
   "metadata": {},
   "source": [
    "# Feature Selection Techniques\n",
    "The notebook covers a few feature selection techniques and when to use which one. This could be useful for figuring out what techniques are worth using in your own projects. Feature selection techniques covered here are\n",
    "1. Filter based methods\n",
    "2. Wrapper based methods\n",
    "3. Embedded methods\n",
    "4. Feature importance\n",
    "5. Recursive Feature Elimination\n",
    "6. Principal Component Analysis\n",
    "\n",
    "Please also refer to https://scikit-learn.org/1.5/modules/feature_selection.html for more built-in feature selection techniques in scikit-learn."
   ]
  },
  {
   "cell_type": "markdown",
   "metadata": {},
   "source": [
    "The first and foremost step in any machine learning project is to understand the data. This includes understanding the features and their importance. Feature selection is the process of selecting a subset of relevant features to train the models. Three main reasons for Feature selection techniques are:\n",
    "1. Simplification of models to make them explainable\n",
    "2. Shorter training times\n",
    "3. To avoid the curse of dimensionality due to overfitting possibilities\n",
    "4. Enhance higher learning accuracy"
   ]
  },
  {
   "cell_type": "markdown",
   "metadata": {},
   "source": [
    "## Filter based methods"
   ]
  },
  {
   "cell_type": "code",
   "execution_count": 1,
   "metadata": {},
   "outputs": [],
   "source": [
    "# missing value ratio\n",
    "import pandas as pd\n",
    "def missing_value_ratio(df:pd.DataFrame, threshold:float)->pd.DataFrame:\n",
    "    \"\"\"\n",
    "    This function will return the columns which have missing value ratio greater than the threshold\n",
    "    \"\"\"\n",
    "    missing = df.isnull().sum()\n",
    "    missing_ratio = (missing / df.shape[0]) * 100\n",
    "    columns_to_drop = missing_ratio[missing_ratio > threshold].index\n",
    "    df = df.drop(columns=columns_to_drop)\n",
    "    return df"
   ]
  },
  {
   "cell_type": "code",
   "execution_count": null,
   "metadata": {},
   "outputs": [],
   "source": [
    "\n"
   ]
  }
 ],
 "metadata": {
  "kernelspec": {
   "display_name": "docs",
   "language": "python",
   "name": "python3"
  },
  "language_info": {
   "codemirror_mode": {
    "name": "ipython",
    "version": 3
   },
   "file_extension": ".py",
   "mimetype": "text/x-python",
   "name": "python",
   "nbconvert_exporter": "python",
   "pygments_lexer": "ipython3",
   "version": "3.12.7"
  }
 },
 "nbformat": 4,
 "nbformat_minor": 2
}
